{
 "cells": [
  {
   "cell_type": "code",
   "execution_count": 1,
   "id": "50ac34ed",
   "metadata": {},
   "outputs": [],
   "source": [
    "import pandas as pd\n",
    "import numpy as np\n",
    "\n"
   ]
  },
  {
   "cell_type": "code",
   "execution_count": 2,
   "id": "8d218487",
   "metadata": {},
   "outputs": [
    {
     "data": {
      "text/html": [
       "<div>\n",
       "<style scoped>\n",
       "    .dataframe tbody tr th:only-of-type {\n",
       "        vertical-align: middle;\n",
       "    }\n",
       "\n",
       "    .dataframe tbody tr th {\n",
       "        vertical-align: top;\n",
       "    }\n",
       "\n",
       "    .dataframe thead th {\n",
       "        text-align: right;\n",
       "    }\n",
       "</style>\n",
       "<table border=\"1\" class=\"dataframe\">\n",
       "  <thead>\n",
       "    <tr style=\"text-align: right;\">\n",
       "      <th></th>\n",
       "      <th>artist</th>\n",
       "      <th>song</th>\n",
       "      <th>link</th>\n",
       "      <th>text</th>\n",
       "    </tr>\n",
       "  </thead>\n",
       "  <tbody>\n",
       "    <tr>\n",
       "      <th>0</th>\n",
       "      <td>ABBA</td>\n",
       "      <td>Ahe's My Kind Of Girl</td>\n",
       "      <td>/a/abba/ahes+my+kind+of+girl_20598417.html</td>\n",
       "      <td>Look at her face, it's a wonderful face  \\r\\nA...</td>\n",
       "    </tr>\n",
       "    <tr>\n",
       "      <th>1</th>\n",
       "      <td>ABBA</td>\n",
       "      <td>Andante, Andante</td>\n",
       "      <td>/a/abba/andante+andante_20002708.html</td>\n",
       "      <td>Take it easy with me, please  \\r\\nTouch me gen...</td>\n",
       "    </tr>\n",
       "    <tr>\n",
       "      <th>2</th>\n",
       "      <td>ABBA</td>\n",
       "      <td>As Good As New</td>\n",
       "      <td>/a/abba/as+good+as+new_20003033.html</td>\n",
       "      <td>I'll never know why I had to go  \\r\\nWhy I had...</td>\n",
       "    </tr>\n",
       "    <tr>\n",
       "      <th>3</th>\n",
       "      <td>ABBA</td>\n",
       "      <td>Bang</td>\n",
       "      <td>/a/abba/bang_20598415.html</td>\n",
       "      <td>Making somebody happy is a question of give an...</td>\n",
       "    </tr>\n",
       "    <tr>\n",
       "      <th>4</th>\n",
       "      <td>ABBA</td>\n",
       "      <td>Bang-A-Boomerang</td>\n",
       "      <td>/a/abba/bang+a+boomerang_20002668.html</td>\n",
       "      <td>Making somebody happy is a question of give an...</td>\n",
       "    </tr>\n",
       "    <tr>\n",
       "      <th>5</th>\n",
       "      <td>ABBA</td>\n",
       "      <td>Burning My Bridges</td>\n",
       "      <td>/a/abba/burning+my+bridges_20003011.html</td>\n",
       "      <td>Well, you hoot and you holler and you make me ...</td>\n",
       "    </tr>\n",
       "    <tr>\n",
       "      <th>6</th>\n",
       "      <td>ABBA</td>\n",
       "      <td>Cassandra</td>\n",
       "      <td>/a/abba/cassandra_20002811.html</td>\n",
       "      <td>Down in the street they're all singing and sho...</td>\n",
       "    </tr>\n",
       "    <tr>\n",
       "      <th>7</th>\n",
       "      <td>ABBA</td>\n",
       "      <td>Chiquitita</td>\n",
       "      <td>/a/abba/chiquitita_20002978.html</td>\n",
       "      <td>Chiquitita, tell me what's wrong  \\r\\nYou're e...</td>\n",
       "    </tr>\n",
       "    <tr>\n",
       "      <th>8</th>\n",
       "      <td>ABBA</td>\n",
       "      <td>Crazy World</td>\n",
       "      <td>/a/abba/crazy+world_20003013.html</td>\n",
       "      <td>I was out with the morning sun  \\r\\nCouldn't s...</td>\n",
       "    </tr>\n",
       "    <tr>\n",
       "      <th>9</th>\n",
       "      <td>ABBA</td>\n",
       "      <td>Crying Over You</td>\n",
       "      <td>/a/abba/crying+over+you_20177611.html</td>\n",
       "      <td>I'm waitin' for you baby  \\r\\nI'm sitting all ...</td>\n",
       "    </tr>\n",
       "  </tbody>\n",
       "</table>\n",
       "</div>"
      ],
      "text/plain": [
       "  artist                   song                                        link  \\\n",
       "0   ABBA  Ahe's My Kind Of Girl  /a/abba/ahes+my+kind+of+girl_20598417.html   \n",
       "1   ABBA       Andante, Andante       /a/abba/andante+andante_20002708.html   \n",
       "2   ABBA         As Good As New        /a/abba/as+good+as+new_20003033.html   \n",
       "3   ABBA                   Bang                  /a/abba/bang_20598415.html   \n",
       "4   ABBA       Bang-A-Boomerang      /a/abba/bang+a+boomerang_20002668.html   \n",
       "5   ABBA     Burning My Bridges    /a/abba/burning+my+bridges_20003011.html   \n",
       "6   ABBA              Cassandra             /a/abba/cassandra_20002811.html   \n",
       "7   ABBA             Chiquitita            /a/abba/chiquitita_20002978.html   \n",
       "8   ABBA            Crazy World           /a/abba/crazy+world_20003013.html   \n",
       "9   ABBA        Crying Over You       /a/abba/crying+over+you_20177611.html   \n",
       "\n",
       "                                                text  \n",
       "0  Look at her face, it's a wonderful face  \\r\\nA...  \n",
       "1  Take it easy with me, please  \\r\\nTouch me gen...  \n",
       "2  I'll never know why I had to go  \\r\\nWhy I had...  \n",
       "3  Making somebody happy is a question of give an...  \n",
       "4  Making somebody happy is a question of give an...  \n",
       "5  Well, you hoot and you holler and you make me ...  \n",
       "6  Down in the street they're all singing and sho...  \n",
       "7  Chiquitita, tell me what's wrong  \\r\\nYou're e...  \n",
       "8  I was out with the morning sun  \\r\\nCouldn't s...  \n",
       "9  I'm waitin' for you baby  \\r\\nI'm sitting all ...  "
      ]
     },
     "execution_count": 2,
     "metadata": {},
     "output_type": "execute_result"
    }
   ],
   "source": [
    "df = pd.read_csv(\"spotify_songs.csv\")\n",
    "df.head(10)"
   ]
  },
  {
   "cell_type": "code",
   "execution_count": 3,
   "id": "19394d84",
   "metadata": {},
   "outputs": [
    {
     "data": {
      "text/html": [
       "<div>\n",
       "<style scoped>\n",
       "    .dataframe tbody tr th:only-of-type {\n",
       "        vertical-align: middle;\n",
       "    }\n",
       "\n",
       "    .dataframe tbody tr th {\n",
       "        vertical-align: top;\n",
       "    }\n",
       "\n",
       "    .dataframe thead th {\n",
       "        text-align: right;\n",
       "    }\n",
       "</style>\n",
       "<table border=\"1\" class=\"dataframe\">\n",
       "  <thead>\n",
       "    <tr style=\"text-align: right;\">\n",
       "      <th></th>\n",
       "      <th>artist</th>\n",
       "      <th>song</th>\n",
       "      <th>link</th>\n",
       "      <th>text</th>\n",
       "    </tr>\n",
       "  </thead>\n",
       "  <tbody>\n",
       "    <tr>\n",
       "      <th>57645</th>\n",
       "      <td>Ziggy Marley</td>\n",
       "      <td>Good Old Days</td>\n",
       "      <td>/z/ziggy+marley/good+old+days_10198588.html</td>\n",
       "      <td>Irie days come on play  \\r\\nLet the angels fly...</td>\n",
       "    </tr>\n",
       "    <tr>\n",
       "      <th>57646</th>\n",
       "      <td>Ziggy Marley</td>\n",
       "      <td>Hand To Mouth</td>\n",
       "      <td>/z/ziggy+marley/hand+to+mouth_20531167.html</td>\n",
       "      <td>Power to the workers  \\r\\nMore power  \\r\\nPowe...</td>\n",
       "    </tr>\n",
       "    <tr>\n",
       "      <th>57647</th>\n",
       "      <td>Zwan</td>\n",
       "      <td>Come With Me</td>\n",
       "      <td>/z/zwan/come+with+me_20148981.html</td>\n",
       "      <td>all you need  \\r\\nis something i'll believe  \\...</td>\n",
       "    </tr>\n",
       "    <tr>\n",
       "      <th>57648</th>\n",
       "      <td>Zwan</td>\n",
       "      <td>Desire</td>\n",
       "      <td>/z/zwan/desire_20148986.html</td>\n",
       "      <td>northern star  \\r\\nam i frightened  \\r\\nwhere ...</td>\n",
       "    </tr>\n",
       "    <tr>\n",
       "      <th>57649</th>\n",
       "      <td>Zwan</td>\n",
       "      <td>Heartsong</td>\n",
       "      <td>/z/zwan/heartsong_20148991.html</td>\n",
       "      <td>come in  \\r\\nmake yourself at home  \\r\\ni'm a ...</td>\n",
       "    </tr>\n",
       "  </tbody>\n",
       "</table>\n",
       "</div>"
      ],
      "text/plain": [
       "             artist           song  \\\n",
       "57645  Ziggy Marley  Good Old Days   \n",
       "57646  Ziggy Marley  Hand To Mouth   \n",
       "57647          Zwan   Come With Me   \n",
       "57648          Zwan         Desire   \n",
       "57649          Zwan      Heartsong   \n",
       "\n",
       "                                              link  \\\n",
       "57645  /z/ziggy+marley/good+old+days_10198588.html   \n",
       "57646  /z/ziggy+marley/hand+to+mouth_20531167.html   \n",
       "57647           /z/zwan/come+with+me_20148981.html   \n",
       "57648                 /z/zwan/desire_20148986.html   \n",
       "57649              /z/zwan/heartsong_20148991.html   \n",
       "\n",
       "                                                    text  \n",
       "57645  Irie days come on play  \\r\\nLet the angels fly...  \n",
       "57646  Power to the workers  \\r\\nMore power  \\r\\nPowe...  \n",
       "57647  all you need  \\r\\nis something i'll believe  \\...  \n",
       "57648  northern star  \\r\\nam i frightened  \\r\\nwhere ...  \n",
       "57649  come in  \\r\\nmake yourself at home  \\r\\ni'm a ...  "
      ]
     },
     "execution_count": 3,
     "metadata": {},
     "output_type": "execute_result"
    }
   ],
   "source": [
    "df.tail()"
   ]
  },
  {
   "cell_type": "code",
   "execution_count": 4,
   "id": "d7d8fa2a",
   "metadata": {},
   "outputs": [
    {
     "data": {
      "text/plain": [
       "(57650, 4)"
      ]
     },
     "execution_count": 4,
     "metadata": {},
     "output_type": "execute_result"
    }
   ],
   "source": [
    "df.shape"
   ]
  },
  {
   "cell_type": "code",
   "execution_count": 5,
   "id": "a8fdecf9",
   "metadata": {},
   "outputs": [
    {
     "data": {
      "text/plain": [
       "artist    0\n",
       "song      0\n",
       "link      0\n",
       "text      0\n",
       "dtype: int64"
      ]
     },
     "execution_count": 5,
     "metadata": {},
     "output_type": "execute_result"
    }
   ],
   "source": [
    "df.isnull().sum()"
   ]
  },
  {
   "cell_type": "code",
   "execution_count": 6,
   "id": "3bbe248b",
   "metadata": {},
   "outputs": [
    {
     "data": {
      "text/html": [
       "<div>\n",
       "<style scoped>\n",
       "    .dataframe tbody tr th:only-of-type {\n",
       "        vertical-align: middle;\n",
       "    }\n",
       "\n",
       "    .dataframe tbody tr th {\n",
       "        vertical-align: top;\n",
       "    }\n",
       "\n",
       "    .dataframe thead th {\n",
       "        text-align: right;\n",
       "    }\n",
       "</style>\n",
       "<table border=\"1\" class=\"dataframe\">\n",
       "  <thead>\n",
       "    <tr style=\"text-align: right;\">\n",
       "      <th></th>\n",
       "      <th>artist</th>\n",
       "      <th>song</th>\n",
       "      <th>text</th>\n",
       "    </tr>\n",
       "  </thead>\n",
       "  <tbody>\n",
       "    <tr>\n",
       "      <th>0</th>\n",
       "      <td>Guided By Voices</td>\n",
       "      <td>Liquid Indian</td>\n",
       "      <td>Arcane offices delivering deluxe information: ...</td>\n",
       "    </tr>\n",
       "    <tr>\n",
       "      <th>1</th>\n",
       "      <td>Irving Berlin</td>\n",
       "      <td>Outside Of That I Love You</td>\n",
       "      <td>What makes you think I'm crazy about you?  \\r\\...</td>\n",
       "    </tr>\n",
       "    <tr>\n",
       "      <th>2</th>\n",
       "      <td>Dan Fogelberg</td>\n",
       "      <td>Be On Your Way</td>\n",
       "      <td>Be on you way  \\r\\nDon't try to say that  \\r\\n...</td>\n",
       "    </tr>\n",
       "    <tr>\n",
       "      <th>3</th>\n",
       "      <td>Modern Talking</td>\n",
       "      <td>Who Will Save The World</td>\n",
       "      <td>Father they have written  \\r\\nOn the point of ...</td>\n",
       "    </tr>\n",
       "    <tr>\n",
       "      <th>4</th>\n",
       "      <td>Xavier Rudd</td>\n",
       "      <td>Come Let Go</td>\n",
       "      <td>Come my brother, come slowly  \\r\\nCome easy my...</td>\n",
       "    </tr>\n",
       "  </tbody>\n",
       "</table>\n",
       "</div>"
      ],
      "text/plain": [
       "             artist                        song  \\\n",
       "0  Guided By Voices               Liquid Indian   \n",
       "1     Irving Berlin  Outside Of That I Love You   \n",
       "2     Dan Fogelberg              Be On Your Way   \n",
       "3    Modern Talking     Who Will Save The World   \n",
       "4       Xavier Rudd                 Come Let Go   \n",
       "\n",
       "                                                text  \n",
       "0  Arcane offices delivering deluxe information: ...  \n",
       "1  What makes you think I'm crazy about you?  \\r\\...  \n",
       "2  Be on you way  \\r\\nDon't try to say that  \\r\\n...  \n",
       "3  Father they have written  \\r\\nOn the point of ...  \n",
       "4  Come my brother, come slowly  \\r\\nCome easy my...  "
      ]
     },
     "execution_count": 6,
     "metadata": {},
     "output_type": "execute_result"
    }
   ],
   "source": [
    "df1 = df.sample(10000).drop('link',axis=1).reset_index(drop=True)\n",
    "df1.head()\n",
    "\n",
    "\n",
    "\n",
    "# if we continue we this 57650 records we get below error so lets take random sample out of 57650 records\n",
    "# Unable to allocate 22.8 GiB for an array with shape (3065353040,) and data type int64 \n",
    "#we get this error because the system does not have sufficient RAM to allocate 22.8 GiB for this array"
   ]
  },
  {
   "cell_type": "markdown",
   "id": "8c61d33c",
   "metadata": {},
   "source": [
    "## Rename column text to lyrics"
   ]
  },
  {
   "cell_type": "code",
   "execution_count": 7,
   "id": "9a5e486b",
   "metadata": {},
   "outputs": [
    {
     "data": {
      "text/html": [
       "<div>\n",
       "<style scoped>\n",
       "    .dataframe tbody tr th:only-of-type {\n",
       "        vertical-align: middle;\n",
       "    }\n",
       "\n",
       "    .dataframe tbody tr th {\n",
       "        vertical-align: top;\n",
       "    }\n",
       "\n",
       "    .dataframe thead th {\n",
       "        text-align: right;\n",
       "    }\n",
       "</style>\n",
       "<table border=\"1\" class=\"dataframe\">\n",
       "  <thead>\n",
       "    <tr style=\"text-align: right;\">\n",
       "      <th></th>\n",
       "      <th>artist</th>\n",
       "      <th>song</th>\n",
       "      <th>lyrics</th>\n",
       "    </tr>\n",
       "  </thead>\n",
       "  <tbody>\n",
       "    <tr>\n",
       "      <th>0</th>\n",
       "      <td>Guided By Voices</td>\n",
       "      <td>Liquid Indian</td>\n",
       "      <td>Arcane offices delivering deluxe information: ...</td>\n",
       "    </tr>\n",
       "    <tr>\n",
       "      <th>1</th>\n",
       "      <td>Irving Berlin</td>\n",
       "      <td>Outside Of That I Love You</td>\n",
       "      <td>What makes you think I'm crazy about you?  \\r\\...</td>\n",
       "    </tr>\n",
       "    <tr>\n",
       "      <th>2</th>\n",
       "      <td>Dan Fogelberg</td>\n",
       "      <td>Be On Your Way</td>\n",
       "      <td>Be on you way  \\r\\nDon't try to say that  \\r\\n...</td>\n",
       "    </tr>\n",
       "    <tr>\n",
       "      <th>3</th>\n",
       "      <td>Modern Talking</td>\n",
       "      <td>Who Will Save The World</td>\n",
       "      <td>Father they have written  \\r\\nOn the point of ...</td>\n",
       "    </tr>\n",
       "    <tr>\n",
       "      <th>4</th>\n",
       "      <td>Xavier Rudd</td>\n",
       "      <td>Come Let Go</td>\n",
       "      <td>Come my brother, come slowly  \\r\\nCome easy my...</td>\n",
       "    </tr>\n",
       "  </tbody>\n",
       "</table>\n",
       "</div>"
      ],
      "text/plain": [
       "             artist                        song  \\\n",
       "0  Guided By Voices               Liquid Indian   \n",
       "1     Irving Berlin  Outside Of That I Love You   \n",
       "2     Dan Fogelberg              Be On Your Way   \n",
       "3    Modern Talking     Who Will Save The World   \n",
       "4       Xavier Rudd                 Come Let Go   \n",
       "\n",
       "                                              lyrics  \n",
       "0  Arcane offices delivering deluxe information: ...  \n",
       "1  What makes you think I'm crazy about you?  \\r\\...  \n",
       "2  Be on you way  \\r\\nDon't try to say that  \\r\\n...  \n",
       "3  Father they have written  \\r\\nOn the point of ...  \n",
       "4  Come my brother, come slowly  \\r\\nCome easy my...  "
      ]
     },
     "execution_count": 7,
     "metadata": {},
     "output_type": "execute_result"
    }
   ],
   "source": [
    "\n",
    "df1.rename(columns={'text': 'lyrics'}, inplace=True)\n",
    "df1.head()"
   ]
  },
  {
   "cell_type": "code",
   "execution_count": 8,
   "id": "26eb5b1c",
   "metadata": {},
   "outputs": [
    {
     "data": {
      "text/plain": [
       "\"Arcane offices delivering deluxe information:  \\r\\n  \\r\\n1) the quaker's seal of approval  \\r\\n2) more movies less trivial pursuit  \\r\\n  \\r\\nI'm a born again boot stomping witch-humper  \\r\\nAre we there yet?  \\r\\nThe skips and flips are taking sips of  \\r\\n  \\r\\nLiquid indian  \\r\\nLiquid indian  \\r\\nLiquid indian  \\r\\nLiquid indian  \\r\\n  \\r\\nSoft clay orifice  \\r\\nQuivering like new structures and formations  \\r\\n  \\r\\nA perversion not known to the perfect ones  \\r\\n  \\r\\nA stinging disruption, alas  \\r\\nIt is quick like the ultimate brush-off  \\r\\n  \\r\\nIs it time yet?  \\r\\nWe've coupons and stamps  \\r\\nAnd valuable cramps from  \\r\\n  \\r\\nLiquid indian  \\r\\nLiquid indian  \\r\\nLiquid indian  \\r\\nLiquid indian  \\r\\n\\r\\n\""
      ]
     },
     "execution_count": 8,
     "metadata": {},
     "output_type": "execute_result"
    }
   ],
   "source": [
    "df1['lyrics'][0]\n",
    "\n",
    "## this column has lots of capital letters, the problem with Capital letters is sometimes our model can get biased towards \n",
    "## certain words which we dont want. if there are any country names or Celebrities names then we can ignore the lowercasing \n",
    "## of such words \n",
    "\n",
    "# we also have to handle \"\"\\r\\n\" beacuse they dont have any valuable information\n",
    "# lets do some Text Preprocessing on this column"
   ]
  },
  {
   "cell_type": "code",
   "execution_count": 9,
   "id": "fa2df9cd",
   "metadata": {},
   "outputs": [
    {
     "data": {
      "text/plain": [
       "(10000, 3)"
      ]
     },
     "execution_count": 9,
     "metadata": {},
     "output_type": "execute_result"
    }
   ],
   "source": [
    "df1.shape"
   ]
  },
  {
   "cell_type": "code",
   "execution_count": 10,
   "id": "8fd2cd1f",
   "metadata": {},
   "outputs": [],
   "source": [
    "df2 = df1\n",
    "\n"
   ]
  },
  {
   "cell_type": "code",
   "execution_count": 11,
   "id": "095c152b",
   "metadata": {},
   "outputs": [
    {
     "data": {
      "text/html": [
       "<div>\n",
       "<style scoped>\n",
       "    .dataframe tbody tr th:only-of-type {\n",
       "        vertical-align: middle;\n",
       "    }\n",
       "\n",
       "    .dataframe tbody tr th {\n",
       "        vertical-align: top;\n",
       "    }\n",
       "\n",
       "    .dataframe thead th {\n",
       "        text-align: right;\n",
       "    }\n",
       "</style>\n",
       "<table border=\"1\" class=\"dataframe\">\n",
       "  <thead>\n",
       "    <tr style=\"text-align: right;\">\n",
       "      <th></th>\n",
       "      <th>artist</th>\n",
       "      <th>song</th>\n",
       "      <th>lyrics</th>\n",
       "    </tr>\n",
       "  </thead>\n",
       "  <tbody>\n",
       "    <tr>\n",
       "      <th>0</th>\n",
       "      <td>Guided By Voices</td>\n",
       "      <td>Liquid Indian</td>\n",
       "      <td>Arcane offices delivering deluxe information: ...</td>\n",
       "    </tr>\n",
       "    <tr>\n",
       "      <th>1</th>\n",
       "      <td>Irving Berlin</td>\n",
       "      <td>Outside Of That I Love You</td>\n",
       "      <td>What makes you think I'm crazy about you?  \\r\\...</td>\n",
       "    </tr>\n",
       "    <tr>\n",
       "      <th>2</th>\n",
       "      <td>Dan Fogelberg</td>\n",
       "      <td>Be On Your Way</td>\n",
       "      <td>Be on you way  \\r\\nDon't try to say that  \\r\\n...</td>\n",
       "    </tr>\n",
       "    <tr>\n",
       "      <th>3</th>\n",
       "      <td>Modern Talking</td>\n",
       "      <td>Who Will Save The World</td>\n",
       "      <td>Father they have written  \\r\\nOn the point of ...</td>\n",
       "    </tr>\n",
       "    <tr>\n",
       "      <th>4</th>\n",
       "      <td>Xavier Rudd</td>\n",
       "      <td>Come Let Go</td>\n",
       "      <td>Come my brother, come slowly  \\r\\nCome easy my...</td>\n",
       "    </tr>\n",
       "  </tbody>\n",
       "</table>\n",
       "</div>"
      ],
      "text/plain": [
       "             artist                        song  \\\n",
       "0  Guided By Voices               Liquid Indian   \n",
       "1     Irving Berlin  Outside Of That I Love You   \n",
       "2     Dan Fogelberg              Be On Your Way   \n",
       "3    Modern Talking     Who Will Save The World   \n",
       "4       Xavier Rudd                 Come Let Go   \n",
       "\n",
       "                                              lyrics  \n",
       "0  Arcane offices delivering deluxe information: ...  \n",
       "1  What makes you think I'm crazy about you?  \\r\\...  \n",
       "2  Be on you way  \\r\\nDon't try to say that  \\r\\n...  \n",
       "3  Father they have written  \\r\\nOn the point of ...  \n",
       "4  Come my brother, come slowly  \\r\\nCome easy my...  "
      ]
     },
     "execution_count": 11,
     "metadata": {},
     "output_type": "execute_result"
    }
   ],
   "source": [
    "df2.head()"
   ]
  },
  {
   "cell_type": "markdown",
   "id": "865afecc",
   "metadata": {},
   "source": [
    "Text Cleaning/ Text Preprocessing"
   ]
  },
  {
   "cell_type": "code",
   "execution_count": 12,
   "id": "b2359525",
   "metadata": {},
   "outputs": [],
   "source": [
    "df2['lyrics'] = df2['lyrics'].str.lower().replace(r'^\\w\\s', ' ').replace(r'\\n', ' ', regex = True)"
   ]
  },
  {
   "cell_type": "code",
   "execution_count": 13,
   "id": "854a740e",
   "metadata": {},
   "outputs": [
    {
     "data": {
      "text/plain": [
       "\"arcane offices delivering deluxe information:  \\r   \\r 1) the quaker's seal of approval  \\r 2) more movies less trivial pursuit  \\r   \\r i'm a born again boot stomping witch-humper  \\r are we there yet?  \\r the skips and flips are taking sips of  \\r   \\r liquid indian  \\r liquid indian  \\r liquid indian  \\r liquid indian  \\r   \\r soft clay orifice  \\r quivering like new structures and formations  \\r   \\r a perversion not known to the perfect ones  \\r   \\r a stinging disruption, alas  \\r it is quick like the ultimate brush-off  \\r   \\r is it time yet?  \\r we've coupons and stamps  \\r and valuable cramps from  \\r   \\r liquid indian  \\r liquid indian  \\r liquid indian  \\r liquid indian  \\r \\r \""
      ]
     },
     "execution_count": 13,
     "metadata": {},
     "output_type": "execute_result"
    }
   ],
   "source": [
    "df2['lyrics'][0]"
   ]
  },
  {
   "cell_type": "code",
   "execution_count": 14,
   "id": "c27742c4",
   "metadata": {},
   "outputs": [],
   "source": [
    "import nltk\n",
    "from nltk.stem.porter import PorterStemmer"
   ]
  },
  {
   "cell_type": "code",
   "execution_count": 15,
   "id": "8123bb26",
   "metadata": {},
   "outputs": [
    {
     "name": "stderr",
     "output_type": "stream",
     "text": [
      "[nltk_data] Downloading package punkt to\n",
      "[nltk_data]     C:\\Users\\dell\\AppData\\Roaming\\nltk_data...\n",
      "[nltk_data]   Package punkt is already up-to-date!\n"
     ]
    },
    {
     "data": {
      "text/plain": [
       "True"
      ]
     },
     "execution_count": 15,
     "metadata": {},
     "output_type": "execute_result"
    }
   ],
   "source": [
    "nltk.download('punkt')  # For word_tokenize\n"
   ]
  },
  {
   "cell_type": "code",
   "execution_count": 16,
   "id": "f721c631",
   "metadata": {},
   "outputs": [],
   "source": [
    "stemmer = PorterStemmer()"
   ]
  },
  {
   "cell_type": "code",
   "execution_count": 17,
   "id": "7e78451e",
   "metadata": {},
   "outputs": [],
   "source": [
    "\n",
    "\n",
    "\n",
    "def token(txt):\n",
    "    tokens = nltk.word_tokenize(txt)\n",
    "    stemming = [stemmer.stem(w) for w in tokens]\n",
    "    return \" \".join(stemming)"
   ]
  },
  {
   "cell_type": "code",
   "execution_count": 18,
   "id": "d5642a9c",
   "metadata": {},
   "outputs": [
    {
     "data": {
      "text/plain": [
       "\"she 's just my kind of girl , without her i 'm blue\""
      ]
     },
     "execution_count": 18,
     "metadata": {},
     "output_type": "execute_result"
    }
   ],
   "source": [
    "token(\"She's just my kind of girl, without her I'm blue\")"
   ]
  },
  {
   "cell_type": "code",
   "execution_count": 19,
   "id": "4afe3ae9",
   "metadata": {},
   "outputs": [
    {
     "name": "stdout",
     "output_type": "stream",
     "text": [
      "run runner run fast\n"
     ]
    }
   ],
   "source": [
    "text = \"Running runners run fast\"\n",
    "result = token(text)\n",
    "print(result)"
   ]
  },
  {
   "cell_type": "code",
   "execution_count": 20,
   "id": "f5c1ece2",
   "metadata": {},
   "outputs": [
    {
     "data": {
      "text/plain": [
       "0       arcan offic deliv delux inform : 1 ) the quake...\n",
       "1       what make you think i 'm crazi about you ? wha...\n",
       "2       be on you way do n't tri to say that you love ...\n",
       "3       father they have written on the point of no re...\n",
       "4       come my brother , come slowli come easi my fri...\n",
       "                              ...                        \n",
       "9995    i got tarter on my teeth , but i do n't care ....\n",
       "9996    flashback writer jennif hanson , jim patton-jo...\n",
       "9997    sike strong men trembl when they hear it ! the...\n",
       "9998    if i were a desert flower all winter long i 'd...\n",
       "9999    yesterday feel like run away feel like givin '...\n",
       "Name: lyrics, Length: 10000, dtype: object"
      ]
     },
     "execution_count": 20,
     "metadata": {},
     "output_type": "execute_result"
    }
   ],
   "source": [
    "df2['lyrics'].apply(lambda x: token(x))\n"
   ]
  },
  {
   "cell_type": "code",
   "execution_count": 21,
   "id": "95fc3be2",
   "metadata": {},
   "outputs": [],
   "source": [
    "from sklearn.feature_extraction.text import TfidfVectorizer \n",
    "from sklearn.metrics.pairwise import cosine_similarity\n",
    "\n",
    "# TfidfVectorizer is used here beacuase its assains some value to words, meaning each word will given different importance\n",
    "# we dont use BOW because it assains values like 1 or 0 in binary BOW \n",
    "\n",
    "# cosine similarty is used here to calculate the dot product between two vectors if they overlap i,e cos theta (0) that means they are similar \n",
    "# if the cos theta is 1 means theyre opposite"
   ]
  },
  {
   "cell_type": "code",
   "execution_count": 22,
   "id": "f4945e8f",
   "metadata": {},
   "outputs": [],
   "source": [
    "tfidvector = TfidfVectorizer(analyzer='word',stop_words='english')\n"
   ]
  },
  {
   "cell_type": "code",
   "execution_count": 23,
   "id": "8aab9606",
   "metadata": {},
   "outputs": [],
   "source": [
    "matrix = tfidvector.fit_transform(df2['lyrics'])\n"
   ]
  },
  {
   "cell_type": "code",
   "execution_count": 24,
   "id": "b5dcd183",
   "metadata": {},
   "outputs": [],
   "source": [
    "similarity = cosine_similarity(matrix)"
   ]
  },
  {
   "cell_type": "code",
   "execution_count": 25,
   "id": "c1794772",
   "metadata": {},
   "outputs": [],
   "source": [
    "similar =cosine_similarity(matrix)"
   ]
  },
  {
   "cell_type": "code",
   "execution_count": 26,
   "id": "98b66faa",
   "metadata": {},
   "outputs": [
    {
     "data": {
      "text/plain": [
       "array([[1.00000000e+00, 5.88756461e-04, 1.58208044e-03, ...,\n",
       "        4.84518875e-03, 2.65309508e-03, 6.05344603e-03],\n",
       "       [5.88756461e-04, 1.00000000e+00, 5.51889874e-02, ...,\n",
       "        2.07772706e-03, 8.91905776e-03, 9.79175819e-03],\n",
       "       [1.58208044e-03, 5.51889874e-02, 1.00000000e+00, ...,\n",
       "        1.60295116e-02, 1.11934196e-02, 5.05214578e-02],\n",
       "       ...,\n",
       "       [4.84518875e-03, 2.07772706e-03, 1.60295116e-02, ...,\n",
       "        1.00000000e+00, 1.83286816e-02, 1.41235611e-02],\n",
       "       [2.65309508e-03, 8.91905776e-03, 1.11934196e-02, ...,\n",
       "        1.83286816e-02, 1.00000000e+00, 3.79186684e-02],\n",
       "       [6.05344603e-03, 9.79175819e-03, 5.05214578e-02, ...,\n",
       "        1.41235611e-02, 3.79186684e-02, 1.00000000e+00]])"
      ]
     },
     "execution_count": 26,
     "metadata": {},
     "output_type": "execute_result"
    }
   ],
   "source": [
    "similar"
   ]
  },
  {
   "cell_type": "code",
   "execution_count": 27,
   "id": "bde366fd",
   "metadata": {},
   "outputs": [
    {
     "data": {
      "text/html": [
       "<div>\n",
       "<style scoped>\n",
       "    .dataframe tbody tr th:only-of-type {\n",
       "        vertical-align: middle;\n",
       "    }\n",
       "\n",
       "    .dataframe tbody tr th {\n",
       "        vertical-align: top;\n",
       "    }\n",
       "\n",
       "    .dataframe thead th {\n",
       "        text-align: right;\n",
       "    }\n",
       "</style>\n",
       "<table border=\"1\" class=\"dataframe\">\n",
       "  <thead>\n",
       "    <tr style=\"text-align: right;\">\n",
       "      <th></th>\n",
       "      <th>artist</th>\n",
       "      <th>song</th>\n",
       "      <th>lyrics</th>\n",
       "    </tr>\n",
       "  </thead>\n",
       "  <tbody>\n",
       "    <tr>\n",
       "      <th>0</th>\n",
       "      <td>Guided By Voices</td>\n",
       "      <td>Liquid Indian</td>\n",
       "      <td>arcane offices delivering deluxe information: ...</td>\n",
       "    </tr>\n",
       "    <tr>\n",
       "      <th>1</th>\n",
       "      <td>Irving Berlin</td>\n",
       "      <td>Outside Of That I Love You</td>\n",
       "      <td>what makes you think i'm crazy about you?  \\r ...</td>\n",
       "    </tr>\n",
       "    <tr>\n",
       "      <th>2</th>\n",
       "      <td>Dan Fogelberg</td>\n",
       "      <td>Be On Your Way</td>\n",
       "      <td>be on you way  \\r don't try to say that  \\r yo...</td>\n",
       "    </tr>\n",
       "    <tr>\n",
       "      <th>3</th>\n",
       "      <td>Modern Talking</td>\n",
       "      <td>Who Will Save The World</td>\n",
       "      <td>father they have written  \\r on the point of n...</td>\n",
       "    </tr>\n",
       "    <tr>\n",
       "      <th>4</th>\n",
       "      <td>Xavier Rudd</td>\n",
       "      <td>Come Let Go</td>\n",
       "      <td>come my brother, come slowly  \\r come easy my ...</td>\n",
       "    </tr>\n",
       "  </tbody>\n",
       "</table>\n",
       "</div>"
      ],
      "text/plain": [
       "             artist                        song  \\\n",
       "0  Guided By Voices               Liquid Indian   \n",
       "1     Irving Berlin  Outside Of That I Love You   \n",
       "2     Dan Fogelberg              Be On Your Way   \n",
       "3    Modern Talking     Who Will Save The World   \n",
       "4       Xavier Rudd                 Come Let Go   \n",
       "\n",
       "                                              lyrics  \n",
       "0  arcane offices delivering deluxe information: ...  \n",
       "1  what makes you think i'm crazy about you?  \\r ...  \n",
       "2  be on you way  \\r don't try to say that  \\r yo...  \n",
       "3  father they have written  \\r on the point of n...  \n",
       "4  come my brother, come slowly  \\r come easy my ...  "
      ]
     },
     "execution_count": 27,
     "metadata": {},
     "output_type": "execute_result"
    }
   ],
   "source": [
    "df2.head()"
   ]
  },
  {
   "cell_type": "code",
   "execution_count": 28,
   "id": "a6221770",
   "metadata": {},
   "outputs": [
    {
     "data": {
      "text/plain": [
       "(10000, 3)"
      ]
     },
     "execution_count": 28,
     "metadata": {},
     "output_type": "execute_result"
    }
   ],
   "source": [
    "df2.shape"
   ]
  },
  {
   "cell_type": "markdown",
   "id": "8d82978a",
   "metadata": {},
   "source": [
    "recommendation system"
   ]
  },
  {
   "cell_type": "code",
   "execution_count": 29,
   "id": "5aaa2361",
   "metadata": {},
   "outputs": [],
   "source": [
    "def recommendation(song_name):\n",
    "    idx = df[df['song'] == song_name].index[0]\n",
    "    distances = sorted(list(enumerate(similarity[idx])),reverse=True,key=lambda x:x[1])\n",
    "    \n",
    "    songs = []\n",
    "    for s_id in distances[1:5]:\n",
    "        songs.append(df.iloc[s_id[0]].song)\n",
    "        \n",
    "    return songs"
   ]
  },
  {
   "cell_type": "code",
   "execution_count": 30,
   "id": "216c25bb",
   "metadata": {},
   "outputs": [
    {
     "data": {
      "text/plain": [
       "['Burning Gold', 'Something Real', 'Heavy Duty Judy', 'I Smoke Kush']"
      ]
     },
     "execution_count": 30,
     "metadata": {},
     "output_type": "execute_result"
    }
   ],
   "source": [
    "recommendation(\"Believe\")"
   ]
  },
  {
   "cell_type": "code",
   "execution_count": 31,
   "id": "f3332d81",
   "metadata": {},
   "outputs": [
    {
     "data": {
      "text/html": [
       "<div>\n",
       "<style scoped>\n",
       "    .dataframe tbody tr th:only-of-type {\n",
       "        vertical-align: middle;\n",
       "    }\n",
       "\n",
       "    .dataframe tbody tr th {\n",
       "        vertical-align: top;\n",
       "    }\n",
       "\n",
       "    .dataframe thead th {\n",
       "        text-align: right;\n",
       "    }\n",
       "</style>\n",
       "<table border=\"1\" class=\"dataframe\">\n",
       "  <thead>\n",
       "    <tr style=\"text-align: right;\">\n",
       "      <th></th>\n",
       "      <th>artist</th>\n",
       "      <th>song</th>\n",
       "      <th>link</th>\n",
       "      <th>text</th>\n",
       "    </tr>\n",
       "  </thead>\n",
       "  <tbody>\n",
       "    <tr>\n",
       "      <th>49598</th>\n",
       "      <td>Quiet Riot</td>\n",
       "      <td>Don't Think So</td>\n",
       "      <td>/q/quiet+riot/dont+think+so_20671766.html</td>\n",
       "      <td>[Verse 1:]  \\r\\nYou sucked religion from my li...</td>\n",
       "    </tr>\n",
       "  </tbody>\n",
       "</table>\n",
       "</div>"
      ],
      "text/plain": [
       "           artist            song                                       link  \\\n",
       "49598  Quiet Riot  Don't Think So  /q/quiet+riot/dont+think+so_20671766.html   \n",
       "\n",
       "                                                    text  \n",
       "49598  [Verse 1:]  \\r\\nYou sucked religion from my li...  "
      ]
     },
     "execution_count": 31,
     "metadata": {},
     "output_type": "execute_result"
    }
   ],
   "source": [
    "result = df[df['song'] == \"Don't Think So\"]\n",
    "result"
   ]
  },
  {
   "cell_type": "code",
   "execution_count": 32,
   "id": "6a03afe1",
   "metadata": {},
   "outputs": [
    {
     "data": {
      "text/html": [
       "<div>\n",
       "<style scoped>\n",
       "    .dataframe tbody tr th:only-of-type {\n",
       "        vertical-align: middle;\n",
       "    }\n",
       "\n",
       "    .dataframe tbody tr th {\n",
       "        vertical-align: top;\n",
       "    }\n",
       "\n",
       "    .dataframe thead th {\n",
       "        text-align: right;\n",
       "    }\n",
       "</style>\n",
       "<table border=\"1\" class=\"dataframe\">\n",
       "  <thead>\n",
       "    <tr style=\"text-align: right;\">\n",
       "      <th></th>\n",
       "      <th>artist</th>\n",
       "      <th>song</th>\n",
       "      <th>lyrics</th>\n",
       "    </tr>\n",
       "  </thead>\n",
       "  <tbody>\n",
       "    <tr>\n",
       "      <th>9985</th>\n",
       "      <td>Reo Speedwagon</td>\n",
       "      <td>Do You Know Where Your Woman Is Tonight</td>\n",
       "      <td>do you know where your woman is tonight?  \\r d...</td>\n",
       "    </tr>\n",
       "    <tr>\n",
       "      <th>9986</th>\n",
       "      <td>Quietdrive</td>\n",
       "      <td>Just My Heart</td>\n",
       "      <td>the way i feel when i'm in doubt  \\r is the wa...</td>\n",
       "    </tr>\n",
       "    <tr>\n",
       "      <th>9987</th>\n",
       "      <td>Stevie Wonder</td>\n",
       "      <td>A Warm Little Home On A Hill</td>\n",
       "      <td>there's a warm little home on a hill  \\r and t...</td>\n",
       "    </tr>\n",
       "    <tr>\n",
       "      <th>9988</th>\n",
       "      <td>The Weeknd</td>\n",
       "      <td>The Town</td>\n",
       "      <td>you did many things  \\r that i liked, that i l...</td>\n",
       "    </tr>\n",
       "    <tr>\n",
       "      <th>9989</th>\n",
       "      <td>Black Sabbath</td>\n",
       "      <td>Zeitgeist</td>\n",
       "      <td>astral engines in reverse  \\r i'm falling thro...</td>\n",
       "    </tr>\n",
       "    <tr>\n",
       "      <th>9990</th>\n",
       "      <td>Lucky Dube</td>\n",
       "      <td>Is This Freedom</td>\n",
       "      <td>she got outside one morning  \\r to see what' s...</td>\n",
       "    </tr>\n",
       "    <tr>\n",
       "      <th>9991</th>\n",
       "      <td>Pet Shop Boys</td>\n",
       "      <td>We're All Criminals Now</td>\n",
       "      <td>hey, hey  \\r don't ask me how  \\r we've change...</td>\n",
       "    </tr>\n",
       "    <tr>\n",
       "      <th>9992</th>\n",
       "      <td>Moody Blues</td>\n",
       "      <td>Painted Smile</td>\n",
       "      <td>i can sing  \\r i can dance  \\r just give me a ...</td>\n",
       "    </tr>\n",
       "    <tr>\n",
       "      <th>9993</th>\n",
       "      <td>Styx</td>\n",
       "      <td>Quick Is The Beat Of My Heart</td>\n",
       "      <td>written by lewis mark  \\r lead vocals by james...</td>\n",
       "    </tr>\n",
       "    <tr>\n",
       "      <th>9994</th>\n",
       "      <td>Tom Jones</td>\n",
       "      <td>Say You'll Stay Until Tomorrow</td>\n",
       "      <td>[chorus]  \\r say you'll stay until tomorrow  \\...</td>\n",
       "    </tr>\n",
       "    <tr>\n",
       "      <th>9995</th>\n",
       "      <td>Grand Funk Railroad</td>\n",
       "      <td>All The Girls In The World Beware!!!</td>\n",
       "      <td>i got tarter on my teeth, but i don't care.  \\...</td>\n",
       "    </tr>\n",
       "    <tr>\n",
       "      <th>9996</th>\n",
       "      <td>Cher</td>\n",
       "      <td>Flashback</td>\n",
       "      <td>flashback  \\r writers jennifer hanson, jim pat...</td>\n",
       "    </tr>\n",
       "    <tr>\n",
       "      <th>9997</th>\n",
       "      <td>Oliver</td>\n",
       "      <td>My Name</td>\n",
       "      <td>sikes  \\r   \\r strong men tremble when they he...</td>\n",
       "    </tr>\n",
       "    <tr>\n",
       "      <th>9998</th>\n",
       "      <td>Noa</td>\n",
       "      <td>Child Of Man</td>\n",
       "      <td>if i were a desert flower  \\r all winter long ...</td>\n",
       "    </tr>\n",
       "    <tr>\n",
       "      <th>9999</th>\n",
       "      <td>Cheap Trick</td>\n",
       "      <td>Speak Now Or Forever Hold Your Peace</td>\n",
       "      <td>yesterday feels like running away  \\r feels li...</td>\n",
       "    </tr>\n",
       "  </tbody>\n",
       "</table>\n",
       "</div>"
      ],
      "text/plain": [
       "                   artist                                     song  \\\n",
       "9985       Reo Speedwagon  Do You Know Where Your Woman Is Tonight   \n",
       "9986           Quietdrive                            Just My Heart   \n",
       "9987        Stevie Wonder             A Warm Little Home On A Hill   \n",
       "9988           The Weeknd                                 The Town   \n",
       "9989        Black Sabbath                                Zeitgeist   \n",
       "9990           Lucky Dube                          Is This Freedom   \n",
       "9991        Pet Shop Boys                  We're All Criminals Now   \n",
       "9992          Moody Blues                            Painted Smile   \n",
       "9993                 Styx            Quick Is The Beat Of My Heart   \n",
       "9994            Tom Jones           Say You'll Stay Until Tomorrow   \n",
       "9995  Grand Funk Railroad     All The Girls In The World Beware!!!   \n",
       "9996                 Cher                                Flashback   \n",
       "9997               Oliver                                  My Name   \n",
       "9998                  Noa                             Child Of Man   \n",
       "9999          Cheap Trick     Speak Now Or Forever Hold Your Peace   \n",
       "\n",
       "                                                 lyrics  \n",
       "9985  do you know where your woman is tonight?  \\r d...  \n",
       "9986  the way i feel when i'm in doubt  \\r is the wa...  \n",
       "9987  there's a warm little home on a hill  \\r and t...  \n",
       "9988  you did many things  \\r that i liked, that i l...  \n",
       "9989  astral engines in reverse  \\r i'm falling thro...  \n",
       "9990  she got outside one morning  \\r to see what' s...  \n",
       "9991  hey, hey  \\r don't ask me how  \\r we've change...  \n",
       "9992  i can sing  \\r i can dance  \\r just give me a ...  \n",
       "9993  written by lewis mark  \\r lead vocals by james...  \n",
       "9994  [chorus]  \\r say you'll stay until tomorrow  \\...  \n",
       "9995  i got tarter on my teeth, but i don't care.  \\...  \n",
       "9996  flashback  \\r writers jennifer hanson, jim pat...  \n",
       "9997  sikes  \\r   \\r strong men tremble when they he...  \n",
       "9998  if i were a desert flower  \\r all winter long ...  \n",
       "9999  yesterday feels like running away  \\r feels li...  "
      ]
     },
     "execution_count": 32,
     "metadata": {},
     "output_type": "execute_result"
    }
   ],
   "source": [
    "df2.tail(15)"
   ]
  },
  {
   "cell_type": "code",
   "execution_count": 33,
   "id": "18192437",
   "metadata": {},
   "outputs": [],
   "source": [
    "import pickle\n"
   ]
  },
  {
   "cell_type": "code",
   "execution_count": 34,
   "id": "e7edcf20",
   "metadata": {},
   "outputs": [],
   "source": [
    "pickle.dump(similarity,open('similarity.pkl','wb'))\n"
   ]
  },
  {
   "cell_type": "code",
   "execution_count": 35,
   "id": "0b963ee4",
   "metadata": {},
   "outputs": [],
   "source": [
    "pickle.dump(df2,open('df2.pkl','wb'))"
   ]
  },
  {
   "cell_type": "code",
   "execution_count": null,
   "id": "28514014",
   "metadata": {},
   "outputs": [],
   "source": []
  }
 ],
 "metadata": {
  "kernelspec": {
   "display_name": "Python 3 (ipykernel)",
   "language": "python",
   "name": "python3"
  },
  "language_info": {
   "codemirror_mode": {
    "name": "ipython",
    "version": 3
   },
   "file_extension": ".py",
   "mimetype": "text/x-python",
   "name": "python",
   "nbconvert_exporter": "python",
   "pygments_lexer": "ipython3",
   "version": "3.9.21"
  }
 },
 "nbformat": 4,
 "nbformat_minor": 5
}
